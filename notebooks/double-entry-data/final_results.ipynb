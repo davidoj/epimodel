{
 "cells": [
  {
   "cell_type": "code",
   "execution_count": null,
   "metadata": {},
   "outputs": [],
   "source": [
    "%load_ext autoreload\n",
    "%autoreload 2"
   ]
  },
  {
   "cell_type": "code",
   "execution_count": null,
   "metadata": {},
   "outputs": [],
   "source": [
    "import os\n",
    "os.environ[\"THEANO_FLAGS\"] = \"OMP_NUM_THREADS=1, MKL_NUM_THREADS=1, OPENBLAS_NUM_THREADS=1\"\n",
    "os.environ[\"OMP_NUM_THREADS\"] =  \"1\"\n",
    "os.environ[\"MKL_NUM_THREADS\"] =  \"1\" \n",
    "os.environ[\"OPENBLAS_NUM_THREADS\"] =  \"1\" "
   ]
  },
  {
   "cell_type": "code",
   "execution_count": null,
   "metadata": {},
   "outputs": [],
   "source": [
    "### Initial imports\n",
    "import logging\n",
    "import numpy as np\n",
    "import pandas as pd\n",
    "import pymc3 as pm\n",
    "import theano.tensor as T\n",
    "import matplotlib.pyplot as plt\n",
    "import seaborn as sns\n",
    "sns.set_style(\"ticks\")\n",
    "\n",
    "logging.basicConfig(level=logging.INFO)\n",
    "log = logging.getLogger(__name__)\n",
    "\n",
    "import warnings\n",
    "warnings.simplefilter(action=\"ignore\", category=FutureWarning)\n",
    "\n",
    "from epimodel.pymc3_models import cm_effect\n",
    "from epimodel.pymc3_models.cm_effect.datapreprocessor import DataPreprocessor\n",
    "\n",
    "%matplotlib inline"
   ]
  },
  {
   "cell_type": "code",
   "execution_count": null,
   "metadata": {},
   "outputs": [],
   "source": [
    "dp = DataPreprocessor()\n",
    "data = dp.preprocess_data(\"double_entry_final.csv\", last_day=\"2020-05-30\", schools_unis=\"single_features\")"
   ]
  },
  {
   "cell_type": "code",
   "execution_count": null,
   "metadata": {},
   "outputs": [],
   "source": [
    "cm_plot_style = [\n",
    "#             (\"\\uf7f2\", \"tab:red\"), # hospital symbol\n",
    "            (\"\\uf963\", \"black\"), # mask\n",
    "            (\"\\uf0c0\", \"lightgrey\"), # ppl\n",
    "            (\"\\uf0c0\", \"grey\"), # ppl\n",
    "            (\"\\uf0c0\", \"black\"), # ppl\n",
    "            (\"\\uf07a\", \"tab:orange\"), # shop 1\n",
    "            (\"\\uf07a\", \"tab:red\"), # shop2\n",
    "            (\"\\uf549\", \"black\"), # school\n",
    "            (\"\\uf19d\", \"black\"), # university\n",
    "            (\"\\uf965\", \"black\"), # home\n",
    "            (\"\\uf072\", \"grey\"), # plane1\n",
    "            (\"\\uf072\", \"black\"), # plane2\n",
    "            (\"\\uf238\", \"black\"), # train\n",
    "            (\"\\uf1b9\", \"black\"), # car\n",
    "            (\"\\uf641\", \"black\") # flyer\n",
    "        ]"
   ]
  },
  {
   "cell_type": "code",
   "execution_count": null,
   "metadata": {},
   "outputs": [],
   "source": [
    "data.summary_plot(cm_plot_style)"
   ]
  },
  {
   "cell_type": "code",
   "execution_count": null,
   "metadata": {},
   "outputs": [],
   "source": [
    "data.mask_reopenings()"
   ]
  },
  {
   "cell_type": "code",
   "execution_count": null,
   "metadata": {},
   "outputs": [],
   "source": [
    "pm.model_to_graphviz(model2).render(\"model-combined-final\")\n",
    "pm.model_to_graphviz(model2)"
   ]
  },
  {
   "cell_type": "code",
   "execution_count": null,
   "metadata": {},
   "outputs": [],
   "source": [
    "with cm_effect.models.CMCombined_Final(data, cm_plot_style) as model2:\n",
    "    model2.build_model()\n",
    "    \n",
    "    model2.trace = pm.sample(2000, tune=500, cores=4, chains=4, max_treedepth=12)"
   ]
  },
  {
   "cell_type": "code",
   "execution_count": null,
   "metadata": {},
   "outputs": [],
   "source": [
    "pickle.dump(model2.trace, open(\"final_full.pkl\", \"wb\"))"
   ]
  },
  {
   "cell_type": "code",
   "execution_count": null,
   "metadata": {},
   "outputs": [],
   "source": [
    "model2.plot_effect()"
   ]
  },
  {
   "cell_type": "code",
   "execution_count": null,
   "metadata": {},
   "outputs": [],
   "source": [
    "model2.plot_effect()"
   ]
  },
  {
   "cell_type": "code",
   "execution_count": null,
   "metadata": {},
   "outputs": [],
   "source": [
    "np.savetxt(\"default_res.txt\", model2.trace.CMReduction)"
   ]
  }
 ],
 "metadata": {
  "kernelspec": {
   "display_name": "Python 3",
   "language": "python",
   "name": "python3"
  },
  "language_info": {
   "codemirror_mode": {
    "name": "ipython",
    "version": 3
   },
   "file_extension": ".py",
   "mimetype": "text/x-python",
   "name": "python",
   "nbconvert_exporter": "python",
   "pygments_lexer": "ipython3",
   "version": "3.7.4"
  }
 },
 "nbformat": 4,
 "nbformat_minor": 4
}

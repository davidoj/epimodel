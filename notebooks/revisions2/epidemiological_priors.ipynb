{
 "cells": [
  {
   "cell_type": "code",
   "execution_count": null,
   "metadata": {},
   "outputs": [],
   "source": [
    "%load_ext autoreload\n",
    "%autoreload 2\n",
    "\n",
    "from tqdm import tqdm"
   ]
  },
  {
   "cell_type": "code",
   "execution_count": null,
   "metadata": {},
   "outputs": [],
   "source": [
    "from epimodel.pymc3_models.epi_params import bootstrapped_negbinom_values, ci_to_mean_sd\n",
    "\n",
    "import numpy as np\n",
    "import matplotlib.pyplot as plt\n",
    "import matplotlib\n",
    "\n",
    "%matplotlib inline"
   ]
  },
  {
   "cell_type": "markdown",
   "metadata": {},
   "source": [
    "# infected to reporting"
   ]
  },
  {
   "cell_type": "code",
   "execution_count": null,
   "metadata": {},
   "outputs": [],
   "source": [
    "symptom_reporting = {\n",
    "    'mean_mean': 5.82,\n",
    "    'mean_sd': 0.68,\n",
    "    'disp_mean': 1.57,\n",
    "    'disp_sd': 0.054,\n",
    "    'source': 'Cereda et al, https://arxiv.org/ftp/arxiv/papers/2003/2003.09320.pdf, §3'\n",
    "              'Fonfria et al, https://www.medrxiv.org/content/medrxiv/early/2020/06/19/2020.06.17.20133587',\n",
    "    'dist': 'negbinom',\n",
    "    'notes': 'mean from Fronfria et al. Dispersions from Cereda et al.'\n",
    "}\n",
    "\n",
    "symptom_deaths = {\n",
    "    'mean_mean': 16.71,\n",
    "    'mean_sd': 0.75,\n",
    "    'sd_mean': 6.9,\n",
    "    'sd_sd': 1.122,\n",
    "    'source': 'Linton et al'\n",
    "              'Fonfria et al, https://www.medrxiv.org/content/medrxiv/early/2020/06/19/2020.06.17.20133587',\n",
    "    'dist': 'gamma',\n",
    "    'notes': 'Mean from Fronfria et al. Sd from Linton et al'\n",
    "}"
   ]
  },
  {
   "cell_type": "code",
   "execution_count": null,
   "metadata": {},
   "outputs": [],
   "source": []
  },
  {
   "cell_type": "code",
   "execution_count": null,
   "metadata": {},
   "outputs": [],
   "source": [
    "import scipy.stats as stats"
   ]
  },
  {
   "cell_type": "code",
   "execution_count": null,
   "metadata": {},
   "outputs": [],
   "source": [
    "w = stats.weibull_min(c=2.82)"
   ]
  },
  {
   "cell_type": "code",
   "execution_count": null,
   "metadata": {},
   "outputs": [],
   "source": [
    "5.665 * w.mean()"
   ]
  },
  {
   "cell_type": "code",
   "execution_count": null,
   "metadata": {},
   "outputs": [],
   "source": [
    "ci_to_mean_sd(2.826, np.array([1.75, 4.7]))"
   ]
  },
  {
   "cell_type": "code",
   "execution_count": null,
   "metadata": {},
   "outputs": [],
   "source": [
    "ci_to_mean_sd(5.665, np.array([4.7, 6.9]))"
   ]
  },
  {
   "cell_type": "code",
   "execution_count": null,
   "metadata": {},
   "outputs": [],
   "source": [
    "5.665 * w.std()"
   ]
  },
  {
   "cell_type": "code",
   "execution_count": null,
   "metadata": {},
   "outputs": [],
   "source": [
    "nRVs = 2500\n",
    "\n",
    "ms = np.zeros(nRVs)\n",
    "sds = np.zeros(nRVs)\n",
    "\n",
    "for i in tqdm(range(nRVs)):\n",
    "    shape = np.random.uniform(1.75, 4.7)\n",
    "    scale = np.random.uniform(4.7, 6.9)\n",
    "#     shape=  max(np.random.normal(loc=2.926, scale=0.96), 1.5)\n",
    "#     scale = max(np.random.normal(loc=5.665, scale=0.63), 3)\n",
    "    w = stats.weibull_min(c=shape)\n",
    "    ms[i] = scale * w.mean()\n",
    "    sds[i] = scale * w.std()\n",
    "\n",
    "print(np.mean(ms))\n",
    "print(np.std(ms))   \n",
    "print(np.mean(sds))\n",
    "print(np.std(sds))"
   ]
  },
  {
   "cell_type": "code",
   "execution_count": null,
   "metadata": {},
   "outputs": [],
   "source": [
    "ci_data = np.loadtxt('ci_data.csv', delimiter=',', skiprows=1, usecols=[1, 2, 4])"
   ]
  },
  {
   "cell_type": "code",
   "execution_count": null,
   "metadata": {},
   "outputs": [],
   "source": [
    "means = np.exp(ci_data[:, 0]) / np.exp(ci_data[:, 1])\n",
    "sigmas = np.exp(0.5*ci_data[:, 0]) / np.exp(ci_data[:, 1])\n",
    "\n",
    "nLogL = ci_data[:, 2]"
   ]
  },
  {
   "cell_type": "code",
   "execution_count": null,
   "metadata": {},
   "outputs": [],
   "source": [
    "nLogL < 3.84"
   ]
  },
  {
   "cell_type": "code",
   "execution_count": null,
   "metadata": {},
   "outputs": [],
   "source": [
    "np.min(sigmas[nLogL < 3.84])"
   ]
  },
  {
   "cell_type": "code",
   "execution_count": null,
   "metadata": {},
   "outputs": [],
   "source": [
    "np.max(sigmas[nLogL < 3.84])"
   ]
  },
  {
   "cell_type": "code",
   "execution_count": null,
   "metadata": {},
   "outputs": [],
   "source": [
    "sd_middle = 2.11"
   ]
  },
  {
   "cell_type": "code",
   "execution_count": null,
   "metadata": {},
   "outputs": [],
   "source": [
    "ci_to_mean_sd(2.11, np.array([1.525, 3.09]))"
   ]
  },
  {
   "cell_type": "code",
   "execution_count": null,
   "metadata": {},
   "outputs": [],
   "source": [
    "np.min(means[nLogL < 3.84])"
   ]
  },
  {
   "cell_type": "code",
   "execution_count": null,
   "metadata": {},
   "outputs": [],
   "source": [
    "np.max(means[nLogL < 3.84])"
   ]
  },
  {
   "cell_type": "code",
   "execution_count": null,
   "metadata": {},
   "outputs": [],
   "source": [
    "plt.plot(ms)"
   ]
  },
  {
   "cell_type": "code",
   "execution_count": null,
   "metadata": {},
   "outputs": [],
   "source": [
    "ms = np.linspace(1.5, 1.55, 51)\n",
    "sds = np.linspace(0.05, 0.1, 51)\n",
    "\n",
    "nRVs = int(1e7)\n",
    "\n",
    "noise_mean = np.random.normal(0, 1, size=nRVs)\n",
    "noise_sd = np.random.normal(0, 1, size=nRVs)\n",
    "\n",
    "min_sd = 100\n",
    "best_sol = np.array([0., 0.])\n",
    "tol = 0.01\n",
    "\n",
    "sd_mean = 0.418\n",
    "sd_sd = 0.0759\n",
    "\n",
    "for mean_mean in tqdm(ms.tolist()):\n",
    "    for mean_sd in sds:\n",
    "        log_mean = mean_mean + noise_mean * mean_sd\n",
    "        log_sd = sd_mean + noise_sd * sd_sd\n",
    "        means = np.exp(log_mean + 0.5 * log_sd ** 2)\n",
    "        m = np.mean(means)\n",
    "        l = np.percentile(means, 2.5)\n",
    "        u = np.percentile(means, 97.5)\n",
    "        if np.abs(m - 5.06) < tol:\n",
    "            if l < 5.06 and u > 5.7:\n",
    "                if mean_sd < min_sd:\n",
    "                    min_sd = mean_sd\n",
    "                    best_sol[0] = mean_mean\n",
    "                    best_sol[1] = mean_sd\n",
    "print(f'Best solution: {best_sol}')"
   ]
  },
  {
   "cell_type": "code",
   "execution_count": null,
   "metadata": {},
   "outputs": [],
   "source": [
    "# final \n",
    "incubation_period = {\n",
    "                'mean_mean': 1.53,\n",
    "                'mean_sd': 0.051,\n",
    "                'sd_mean': 0.418,\n",
    "                'sd_sd': 0.0759,\n",
    "                'source': 'Lauer et al, doi.org/10.7326/M20-0504'\n",
    "                          'Fonfria et al, https://www.medrxiv.org/content/medrxiv/early/2020/06/19/2020.06.17.20133587',\n",
    "                'dist': 'lognorm',\n",
    "                'notes': 'mean_mean, mean_sd chosen from Fonfria et al, after fitting using Lauer values.'\n",
    "                         '(log) sd, sd_sd taken from Lauer et al.'\n",
    "            }"
   ]
  },
  {
   "cell_type": "code",
   "execution_count": null,
   "metadata": {},
   "outputs": [],
   "source": [
    "bootstrapped_negbinom_values([incubation_period, symptom_reporting])"
   ]
  },
  {
   "cell_type": "code",
   "execution_count": null,
   "metadata": {},
   "outputs": [],
   "source": [
    "p, ms, disps = bootstrapped_negbinom_values([incubation_period, symptom_deaths], truncation=64)"
   ]
  },
  {
   "cell_type": "code",
   "execution_count": null,
   "metadata": {},
   "outputs": [],
   "source": [
    "p"
   ]
  },
  {
   "cell_type": "code",
   "execution_count": null,
   "metadata": {},
   "outputs": [],
   "source": []
  }
 ],
 "metadata": {
  "kernelspec": {
   "display_name": "Python 3",
   "language": "python",
   "name": "python3"
  },
  "language_info": {
   "codemirror_mode": {
    "name": "ipython",
    "version": 3
   },
   "file_extension": ".py",
   "mimetype": "text/x-python",
   "name": "python",
   "nbconvert_exporter": "python",
   "pygments_lexer": "ipython3",
   "version": "3.8.3"
  }
 },
 "nbformat": 4,
 "nbformat_minor": 4
}

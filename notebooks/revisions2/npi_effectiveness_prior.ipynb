{
 "cells": [
  {
   "cell_type": "code",
   "execution_count": 10,
   "metadata": {},
   "outputs": [],
   "source": [
    "import numpy as np\n",
    "import matplotlib.pyplot as plt"
   ]
  },
  {
   "cell_type": "code",
   "execution_count": 11,
   "metadata": {},
   "outputs": [],
   "source": [
    "def assymetric_laplace_pdf(x, scale, k):\n",
    "    return scale/(k + (k ** -1)) * np.exp(-x * scale * np.sign(x) * (k ** np.sign(x)) )\n",
    "\n",
    "\n",
    "def assymetric_laplace_cdf(x, scale, k):\n",
    "    if x < 0:\n",
    "        return np.exp(x*scale/k) * (k**2) / (1 + k**2) \n",
    "    else:\n",
    "        return 1 - np.exp(-x*scale*k) / (1 + k**2) "
   ]
  },
  {
   "cell_type": "code",
   "execution_count": 12,
   "metadata": {},
   "outputs": [],
   "source": [
    "def assymetric_laplace_pdf_trans(y, scale, k):\n",
    "    x = -np.log(y)\n",
    "    return scale/(k + (k ** -1)) * np.exp(-x * scale * np.sign(x) * (k ** np.sign(x)))/y"
   ]
  },
  {
   "cell_type": "code",
   "execution_count": 16,
   "metadata": {},
   "outputs": [],
   "source": [
    "scale = 10\n",
    "kappa = 0.5"
   ]
  },
  {
   "cell_type": "code",
   "execution_count": 17,
   "metadata": {},
   "outputs": [],
   "source": [
    "xvals = np.linspace(-2, 2, 1000)\n",
    "\n",
    "pdf = np.array([assymetric_laplace_pdf(x, scale, kappa) for x in xvals])\n",
    "cdf = np.array([assymetric_laplace_cdf(x, scale, kappa) for x in xvals])"
   ]
  },
  {
   "cell_type": "code",
   "execution_count": 18,
   "metadata": {},
   "outputs": [
    {
     "data": {
      "text/plain": [
       "Text(0.5, 1.0, 'CDF')"
      ]
     },
     "execution_count": 18,
     "metadata": {},
     "output_type": "execute_result"
    },
    {
     "data": {
      "image/png": "[encoded data removed]",
      "text/plain": [
       "<Figure size 504x216 with 2 Axes>"
      ]
     },
     "metadata": {
      "needs_background": "light"
     },
     "output_type": "display_data"
    }
   ],
   "source": [
    "plt.figure(figsize=(7, 3))\n",
    "plt.subplot(121)\n",
    "plt.plot(xvals, pdf)\n",
    "plt.title('PDF')\n",
    "plt.subplot(122)\n",
    "plt.plot(xvals, cdf)\n",
    "plt.title('CDF')"
   ]
  },
  {
   "cell_type": "code",
   "execution_count": null,
   "metadata": {},
   "outputs": [],
   "source": [
    "assymetric_laplace_cdf(0, 5, 0.5)"
   ]
  },
  {
   "cell_type": "code",
   "execution_count": null,
   "metadata": {},
   "outputs": [],
   "source": [
    "1-assymetric_laplace_cdf(0.5, 10, 0.5)"
   ]
  },
  {
   "cell_type": "code",
   "execution_count": null,
   "metadata": {},
   "outputs": [],
   "source": [
    "yvals = np.linspace(-1, 1, 1000)\n",
    "\n",
    "pdf = np.array([assymetric_laplace_pdf(y, 5, 0.5) for y in xvals])"
   ]
  },
  {
   "cell_type": "code",
   "execution_count": null,
   "metadata": {},
   "outputs": [],
   "source": [
    "plt.plot(100*yvals, pdf)\n",
    "plt.title('PDF')\n",
    "plt.xlabel('Reduction in R')"
   ]
  },
  {
   "cell_type": "code",
   "execution_count": null,
   "metadata": {},
   "outputs": [],
   "source": [
    "import pymc3 as pm"
   ]
  },
  {
   "cell_type": "code",
   "execution_count": null,
   "metadata": {},
   "outputs": [],
   "source": [
    "gamma = pm.Gamma.dist(1/8, 1) "
   ]
  },
  {
   "cell_type": "code",
   "execution_count": null,
   "metadata": {},
   "outputs": [],
   "source": [
    "xvals = np.linspace(-2, 2, 1000)\n",
    "pdf_vals = np.exp(gamma.logp(xvals).eval())"
   ]
  },
  {
   "cell_type": "code",
   "execution_count": null,
   "metadata": {},
   "outputs": [],
   "source": [
    "plt.subplot(121)\n",
    "pdf = np.array([assymetric_laplace_pdf(x, 0.5, 0.5) for x in xvals])\n",
    "plt.plot(xvals - np.log(1.05)/8, pdf_vals)\n",
    "plt.ylim([0, 5])\n",
    "plt.subplot(122)\n",
    "plt.plot(xvals, pdf)\n",
    "plt.ylim([0, 1])"
   ]
  },
  {
   "cell_type": "code",
   "execution_count": null,
   "metadata": {},
   "outputs": [],
   "source": [
    "f"
   ]
  },
  {
   "cell_type": "code",
   "execution_count": 1,
   "metadata": {},
   "outputs": [],
   "source": [
    "from epimodel.pymc3_distributions.asymmetric_laplace import AsymmetricLaplace"
   ]
  },
  {
   "cell_type": "code",
   "execution_count": 2,
   "metadata": {},
   "outputs": [],
   "source": [
    "x = AsymmetricLaplace.dist(10, 0.5)"
   ]
  },
  {
   "cell_type": "code",
   "execution_count": 3,
   "metadata": {},
   "outputs": [],
   "source": [
    "samples = x.random(size=10000).eval()"
   ]
  },
  {
   "cell_type": "code",
   "execution_count": 4,
   "metadata": {},
   "outputs": [],
   "source": [
    "import matplotlib.pyplot as plt\n",
    "import numpy as np\n",
    "%matplotlib inline\n",
    "\n",
    "import pymc3 as pm"
   ]
  },
  {
   "cell_type": "code",
   "execution_count": 7,
   "metadata": {},
   "outputs": [],
   "source": [
    "with pm.Model() as mdl:\n",
    "    x = AsymmetricLaplace('lol', 10, 0.5)"
   ]
  },
  {
   "cell_type": "code",
   "execution_count": 9,
   "metadata": {},
   "outputs": [
    {
     "data": {
      "text/plain": [
       "[<matplotlib.lines.Line2D at 0x1430c7ee0>]"
      ]
     },
     "execution_count": 9,
     "metadata": {},
     "output_type": "execute_result"
    },
    {
     "data": {
      "image/png": "[encoded data removed]",
      "text/plain": [
       "<Figure size 432x288 with 2 Axes>"
      ]
     },
     "metadata": {
      "needs_background": "light"
     },
     "output_type": "display_data"
    }
   ],
   "source": [
    "x = AsymmetricLaplace.dist(10, 0.5)\n",
    "plt.subplot(121)\n",
    "plt.hist(samples, bins=100);\n",
    "plt.subplot(122)\n",
    "xvals = np.linspace(-0.5, 1.5, 100)\n",
    "pdf = np.exp(x.logp(xvals).eval())\n",
    "plt.plot(xvals, pdf)"
   ]
  },
  {
   "cell_type": "code",
   "execution_count": null,
   "metadata": {},
   "outputs": [],
   "source": [
    "pdf"
   ]
  },
  {
   "cell_type": "code",
   "execution_count": null,
   "metadata": {},
   "outputs": [],
   "source": []
  }
 ],
 "metadata": {
  "kernelspec": {
   "display_name": "Python 3",
   "language": "python",
   "name": "python3"
  },
  "language_info": {
   "codemirror_mode": {
    "name": "ipython",
    "version": 3
   },
   "file_extension": ".py",
   "mimetype": "text/x-python",
   "name": "python",
   "nbconvert_exporter": "python",
   "pygments_lexer": "ipython3",
   "version": "3.8.3"
  }
 },
 "nbformat": 4,
 "nbformat_minor": 4
}
